{
 "cells": [
  {
   "cell_type": "code",
   "execution_count": 14,
   "metadata": {},
   "outputs": [],
   "source": [
    "import tensorflow as tf\n",
    "from tensorflow.keras.datasets import mnist\n",
    "from tensorflow.keras.models import Sequential\n",
    "from tensorflow.keras.layers import Dense, Flatten\n",
    "import numpy as np\n",
    "import matplotlib.pyplot as plt\n",
    "import matplotlib.gridspec as gridspec\n",
    "import os"
   ]
  },
  {
   "cell_type": "code",
   "execution_count": 2,
   "metadata": {},
   "outputs": [],
   "source": [
    "# Load the MNIST dataset\n",
    "(x_train, y_train), (x_test, y_test) = mnist.load_data()"
   ]
  },
  {
   "cell_type": "code",
   "execution_count": 3,
   "metadata": {},
   "outputs": [
    {
     "name": "stdout",
     "output_type": "stream",
     "text": [
      "WARNING:tensorflow:From c:\\Users\\ryanp\\anaconda3\\Lib\\site-packages\\keras\\src\\backend.py:873: The name tf.get_default_graph is deprecated. Please use tf.compat.v1.get_default_graph instead.\n",
      "\n",
      "WARNING:tensorflow:From c:\\Users\\ryanp\\anaconda3\\Lib\\site-packages\\keras\\src\\optimizers\\__init__.py:309: The name tf.train.Optimizer is deprecated. Please use tf.compat.v1.train.Optimizer instead.\n",
      "\n",
      "Epoch 1/5\n",
      "WARNING:tensorflow:From c:\\Users\\ryanp\\anaconda3\\Lib\\site-packages\\keras\\src\\utils\\tf_utils.py:492: The name tf.ragged.RaggedTensorValue is deprecated. Please use tf.compat.v1.ragged.RaggedTensorValue instead.\n",
      "\n",
      "WARNING:tensorflow:From c:\\Users\\ryanp\\anaconda3\\Lib\\site-packages\\keras\\src\\engine\\base_layer_utils.py:384: The name tf.executing_eagerly_outside_functions is deprecated. Please use tf.compat.v1.executing_eagerly_outside_functions instead.\n",
      "\n",
      "469/469 [==============================] - 3s 4ms/step - loss: 0.3472 - accuracy: 0.9039\n",
      "Epoch 2/5\n",
      "469/469 [==============================] - 2s 4ms/step - loss: 0.1388 - accuracy: 0.9585\n",
      "Epoch 3/5\n",
      "469/469 [==============================] - 2s 4ms/step - loss: 0.0989 - accuracy: 0.9711\n",
      "Epoch 4/5\n",
      "469/469 [==============================] - 2s 4ms/step - loss: 0.0754 - accuracy: 0.9773\n",
      "Epoch 5/5\n",
      "469/469 [==============================] - 2s 4ms/step - loss: 0.0598 - accuracy: 0.9820\n"
     ]
    },
    {
     "data": {
      "text/plain": [
       "<keras.src.callbacks.History at 0x163594c9cd0>"
      ]
     },
     "execution_count": 3,
     "metadata": {},
     "output_type": "execute_result"
    }
   ],
   "source": [
    "# def testMLP(x_train, y_train, x_test, y_test):\n",
    "# Preprocess the data\n",
    "x_train = x_train.reshape(-1, 784) / 255.0\n",
    "x_test = x_test.reshape(-1, 784) / 255.0\n",
    "\n",
    "# One-hot encode the labels\n",
    "num_classes = 10\n",
    "y_train = tf.keras.utils.to_categorical(y_train, num_classes)\n",
    "y_test = tf.keras.utils.to_categorical(y_test, num_classes)\n",
    "\n",
    "# Define the model architecture\n",
    "model = Sequential([\n",
    "    Flatten(input_shape=(784,)),\n",
    "    Dense(128, activation='relu'),  # 128 neurons in the first hidden layer\n",
    "    Dense(64, activation='relu'),  # 64 neurons in the second hidden layer\n",
    "    Dense(num_classes, activation='softmax')\n",
    "])\n",
    "\n",
    "# Compile the model\n",
    "model.compile(optimizer='adam',\n",
    "            loss='categorical_crossentropy',\n",
    "            metrics=['accuracy'])\n",
    "\n",
    "# Train the model\n",
    "model.fit(x_train, y_train, epochs=5, batch_size=128)"
   ]
  },
  {
   "cell_type": "code",
   "execution_count": 4,
   "metadata": {},
   "outputs": [],
   "source": [
    "# # Load the MNIST dataset\n",
    "# (x_train, y_train), (x_test, y_test) = mnist.load_data()\n",
    "# testMLP(x_train, y_train, x_test, y_test)"
   ]
  },
  {
   "cell_type": "code",
   "execution_count": 5,
   "metadata": {},
   "outputs": [
    {
     "name": "stdout",
     "output_type": "stream",
     "text": [
      "313/313 [==============================] - 0s 1ms/step\n",
      "313/313 [==============================] - 1s 2ms/step\n",
      "313/313 [==============================] - 1s 1ms/step\n",
      "313/313 [==============================] - 1s 2ms/step\n",
      "[[0.00000000e+00 0.00000000e+00 0.00000000e+00 ... 2.48883874e-03\n",
      "  4.35285969e-03 2.55673425e-04]\n",
      " [0.00000000e+00 0.00000000e+00 0.00000000e+00 ... 3.16595775e-03\n",
      "  1.74833853e-02 1.77855953e-04]\n",
      " [0.00000000e+00 0.00000000e+00 0.00000000e+00 ... 1.66692100e-02\n",
      "  2.16209274e-02 3.18563427e-04]\n",
      " ...\n",
      " [0.00000000e+00 0.00000000e+00 0.00000000e+00 ... 9.66891229e-01\n",
      "  8.02291464e-03 5.00373822e-03]\n",
      " [0.00000000e+00 0.00000000e+00 0.00000000e+00 ... 1.98891480e-03\n",
      "  9.73794818e-01 5.46306837e-04]\n",
      " [0.00000000e+00 0.00000000e+00 0.00000000e+00 ... 1.99771896e-02\n",
      "  2.50768419e-02 8.84861588e-01]]\n"
     ]
    }
   ],
   "source": [
    "# Get the layer outputs for the test data\n",
    "layer_outputs = []\n",
    "for layer in model.layers:\n",
    "    if hasattr(layer, 'output'):\n",
    "        layer_model = tf.keras.Model(inputs=model.input, outputs=layer.output)\n",
    "        layer_outputs.append(layer_model.predict(x_test))\n",
    "\n",
    "# Compute the neuron activations averaged for each label\n",
    "num_layers = len(layer_outputs)\n",
    "num_neurons = sum(outputs.shape[-1] for outputs in layer_outputs)\n",
    "neuron_activations = np.zeros((num_classes, num_neurons))\n",
    "\n",
    "for label_idx in range(num_classes):\n",
    "    label_test_data = x_test[np.argmax(y_test, axis=1) == label_idx]\n",
    "    label_activations = np.zeros((num_neurons,))\n",
    "    neuron_idx = 0\n",
    "    for j, outputs in enumerate(layer_outputs):\n",
    "        num_neurons_in_layer = outputs.shape[-1]\n",
    "        label_activations[neuron_idx:neuron_idx + num_neurons_in_layer] = np.mean(outputs[np.argmax(y_test, axis=1) == label_idx], axis=0)\n",
    "        neuron_idx += num_neurons_in_layer\n",
    "    neuron_activations[label_idx] = label_activations\n",
    "\n",
    "\n",
    "# Print the neuron activations matrix\n",
    "print(neuron_activations)"
   ]
  },
  {
   "cell_type": "code",
   "execution_count": 6,
   "metadata": {},
   "outputs": [
    {
     "data": {
      "text/plain": [
       "10"
      ]
     },
     "execution_count": 6,
     "metadata": {},
     "output_type": "execute_result"
    }
   ],
   "source": [
    "len(neuron_activations)"
   ]
  },
  {
   "cell_type": "code",
   "execution_count": 7,
   "metadata": {},
   "outputs": [
    {
     "data": {
      "text/plain": [
       "<Figure size 1200x1200 with 0 Axes>"
      ]
     },
     "metadata": {},
     "output_type": "display_data"
    },
    {
     "data": {
      "image/png": "[encoded data removed]",
      "text/plain": [
       "<Figure size 3000x1200 with 1 Axes>"
      ]
     },
     "metadata": {},
     "output_type": "display_data"
    }
   ],
   "source": [
    "#plot the matrix\n",
    "import matplotlib.pyplot as plt\n",
    "plt.figure(figsize=(12, 12))  # Set the initial figure size\n",
    "plt.matshow(neuron_activations, cmap='hot', interpolation='nearest', aspect=20)\n",
    "plt.gcf().set_figheight(12)\n",
    "plt.gcf().set_figwidth(30)\n",
    "plt.show()\n"
   ]
  },
  {
   "cell_type": "code",
   "execution_count": 8,
   "metadata": {},
   "outputs": [
    {
     "name": "stdout",
     "output_type": "stream",
     "text": [
      "313/313 [==============================] - 0s 1ms/step\n",
      "313/313 [==============================] - 0s 1ms/step\n",
      "313/313 [==============================] - 1s 1ms/step\n",
      "313/313 [==============================] - 1s 2ms/step\n"
     ]
    }
   ],
   "source": [
    "# Get the layer outputs for the test data\n",
    "layer_outputs = []\n",
    "for layer in model.layers:\n",
    "    if hasattr(layer, 'output'):\n",
    "        layer_model = tf.keras.Model(inputs=model.input, outputs=layer.output)\n",
    "        layer_outputs.append(layer_model.predict(x_test))\n",
    "\n",
    "# Compute the neuron activations averaged for each label and each layer\n",
    "layer_activations = []\n",
    "for outputs in layer_outputs:\n",
    "    num_neurons_in_layer = outputs.shape[-1]\n",
    "    layer_activation = np.zeros((num_classes, num_neurons_in_layer))\n",
    "    for label_idx in range(num_classes):\n",
    "        layer_activation[label_idx] = np.mean(outputs[np.argmax(y_test, axis=1) == label_idx], axis=0)\n",
    "    layer_activations.append(layer_activation)\n",
    "\n",
    "# Print the neuron activations matrix for each layer\n",
    "# for i, layer_activation in enumerate(layer_activations):\n",
    "#     print(f\"Layer {i} neuron activations:\")\n",
    "#     print(layer_activation)\n",
    "#     print()"
   ]
  },
  {
   "cell_type": "code",
   "execution_count": null,
   "metadata": {},
   "outputs": [],
   "source": [
    "#plot the matrix\n",
    "import matplotlib.pyplot as plt\n",
    "\n",
    "for layer in layer_activations:\n",
    "    plt.figure(figsize=(12, 12))  # Set the initial figure size\n",
    "    plt.matshow(layer, cmap='hot', interpolation='nearest', aspect=20)\n",
    "    plt.gcf().set_figheight(12)\n",
    "    plt.gcf().set_figwidth(30)\n",
    "    plt.show() "
   ]
  },
  {
   "cell_type": "markdown",
   "metadata": {},
   "source": [
    "Now I am going o go on a side track. Here my vision is to create a \"Phantom 4\" Where I perform data augmentation to remove the stalks from the 4s and then prove that I can sill recover the 4s with high accuracy using the ablation to elarn the stalk identification fromt the mean activation using PCA."
   ]
  },
  {
   "cell_type": "code",
   "execution_count": 10,
   "metadata": {},
   "outputs": [
    {
     "data": {
      "text/plain": [
       "list"
      ]
     },
     "execution_count": 10,
     "metadata": {},
     "output_type": "execute_result"
    }
   ],
   "source": [
    "type(layer_activations)"
   ]
  },
  {
   "cell_type": "code",
   "execution_count": 11,
   "metadata": {},
   "outputs": [],
   "source": [
    "# Here I am going to graph the initial 4 activation before I start\n",
    "just_4 = []\n",
    "just_7 = []\n",
    "\n",
    "max_len = max(len(layer) for layer in layer_activations)  # Find the maximum length\n",
    "\n",
    "for layer in layer_activations:\n",
    "    padded_layer = np.pad(layer, (0, max_len - len(layer)), 'constant', constant_values=0)  # Pad the layer\n",
    "    just_4.append(padded_layer[4])\n",
    "    just_7.append(padded_layer[7])"
   ]
  },
  {
   "cell_type": "code",
   "execution_count": 12,
   "metadata": {},
   "outputs": [],
   "source": [
    "# Find the maximum length of any list in just_4\n",
    "max_len = max(len(lst) for lst in just_4)\n",
    "\n",
    "# Pad each list in just_4 to make them the same length\n",
    "just_4_padded = [np.pad(lst, (0, max_len - len(lst)), 'constant', constant_values=0) for lst in just_4]\n",
    "\n",
    "# Convert the padded list of lists to a numpy array\n",
    "just_4_array = np.array(just_4_padded)"
   ]
  },
  {
   "cell_type": "code",
   "execution_count": null,
   "metadata": {},
   "outputs": [],
   "source": [
    "# Create a heatmap\n",
    "plt.imshow(just_4_array, cmap='hot', interpolation='nearest', aspect=100)\n",
    "plt.colorbar()  # Show color scale\n",
    "plt.gcf().set_figheight(10)\n",
    "plt.gcf().set_figwidth(20)\n",
    "plt.ylabel('Layers')\n",
    "plt.xlabel('Neurons')\n",
    "plt.show()"
   ]
  }
 ],
 "metadata": {
  "kernelspec": {
   "display_name": "base",
   "language": "python",
   "name": "python3"
  },
  "language_info": {
   "codemirror_mode": {
    "name": "ipython",
    "version": 3
   },
   "file_extension": ".py",
   "mimetype": "text/x-python",
   "name": "python",
   "nbconvert_exporter": "python",
   "pygments_lexer": "ipython3",
   "version": "3.11.5"
  }
 },
 "nbformat": 4,
 "nbformat_minor": 2
}
